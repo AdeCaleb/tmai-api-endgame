{
 "cells": [
  {
   "cell_type": "markdown",
   "metadata": {},
   "source": [
    "## Understanding the API Response Structure\n",
    "\n",
    "This section helps you understand the column names and data format returned by the Token Metrics API endpoints. Each endpoint returns different data structures, so we'll explore key examples:"
   ]
  },
  {
   "cell_type": "code",
   "execution_count": null,
   "metadata": {},
   "outputs": [],
   "source": [
    "from tmai_api import TokenMetricsClient\n",
    "import pandas as pd\n",
    "import json\n",
    "from datetime import datetime, timedelta\n",
    "\n",
    "# Initialize with your API key (will be replaced with YOUR-API-KEY in the final notebook)\n",
    "client = TokenMetricsClient(api_key=\"YOUR-API-KEY\")\n",
    "\n",
    "# Helper function to explore DataFrame structures\n",
    "def explore_dataframe(df, title):\n",
    "    \"\"\"Print useful information about a DataFrame structure\"\"\"\n",
    "    print(f\"\\n{'='*20} {title} {'='*20}\")\n",
    "    if df.empty:\n",
    "        print(\"No data available\")\n",
    "        return\n",
    "        \n",
    "    print(f\"Shape: {df.shape} (rows, columns)\")\n",
    "    print(\"\\nColumn Names:\")\n",
    "    for col in df.columns:\n",
    "        print(f\"  - {col}\")\n",
    "    \n",
    "    print(\"\\nExample Row:\")\n",
    "    example = df.iloc[0].to_dict()\n",
    "    print(json.dumps(example, indent=2, default=str))\n",
    "\n",
    "# Get sample data from different endpoints\n",
    "try:\n",
    "    # 1. Token Information (basic token data)\n",
    "    tokens_df = client.tokens.get_dataframe(symbol=\"BTC,ETH\")\n",
    "    explore_dataframe(tokens_df, \"Tokens Endpoint\")\n",
    "    \n",
    "    # 2. Daily OHLCV (price data)\n",
    "    end_date = datetime.now().strftime(\"%Y-%m-%d\")\n",
    "    start_date = (datetime.now() - timedelta(days=30)).strftime(\"%Y-%m-%d\")\n",
    "    daily_df = client.daily_ohlcv.get_dataframe(symbol=\"BTC\", startDate=start_date, endDate=end_date)\n",
    "    explore_dataframe(daily_df, \"Daily OHLCV Endpoint\")\n",
    "    \n",
    "    # 3. Trader Grades (trading metrics)\n",
    "    grades_df = client.trader_grades.get_dataframe(symbol=\"BTC\", startDate=start_date, endDate=end_date)\n",
    "    explore_dataframe(grades_df, \"Trader Grades Endpoint\")\n",
    "    \n",
    "except Exception as e:\n",
    "    print(f\"Error fetching sample data: {e}\")\n",
    "    print(\"Note: You need a valid API key to run this example.\")"
   ]
  },
  {
   "cell_type": "markdown",
   "metadata": {},
   "source": [
    "## How to Use the SDK\n",
    "\n",
    "The examples below demonstrate how to use each endpoint of the Token Metrics AI SDK.\n",
    "\n",
    "Each endpoint follows a consistent pattern:\n",
    "1. `client.endpoint_name.get(...)` - Returns raw API response\n",
    "2. `client.endpoint_name.get_dataframe(...)` - Returns data as a pandas DataFrame\n",
    "\n",
    "The SDK automatically handles:\n",
    "- Date range limitations (splitting long date ranges into 29-day chunks)\n",
    "- Pagination (combining results from multiple pages)\n",
    "- Error handling (skipping unavailable date ranges)\n",
    "\n",
    "Let's start with some examples:"
   ]
  },
  {
   "cell_type": "markdown",
   "metadata": {},
   "source": [
    "# Token Metrics AI API SDK - Example Usage\n",
    "\n",
    "This notebook demonstrates how to use the Token Metrics AI API Python SDK to access cryptocurrency data, trading signals, market metrics, and AI-powered insights."
   ]
  },
  {
   "cell_type": "markdown",
   "metadata": {},
   "source": [
    "## Setup\n",
    "\n",
    "First, install the SDK if you haven't already:"
   ]
  },
  {
   "cell_type": "code",
   "execution_count": null,
   "metadata": {},
   "outputs": [],
   "source": [
    "# Uncomment to install\n",
    "# !pip install tmai-api"
   ]
  },
  {
   "cell_type": "markdown",
   "metadata": {},
   "source": [
    "from tmai_api import TokenMetricsClient\n",
    "import pandas as pd\n",
    "import matplotlib.pyplot as plt\n",
    "\n",
    "# Initialize with your API key\n",
    "client = TokenMetricsClient(api_key=\"YOUR-API-KEY\")"
   ]
  },
  {
   "cell_type": "code",
   "execution_count": 1,
   "metadata": {},
   "outputs": [],
   "source": [
    "from tmai_api import TokenMetricsClient\n",
    "import pandas as pd\n",
    "import matplotlib.pyplot as plt\n",
    "\n",
    "# Initialize with your API key\n",
    "client = TokenMetricsClient(api_key=\"YOUR-API-KEY\")"
   ]
  },
  {
   "cell_type": "markdown",
   "metadata": {},
   "source": [
    "## Example 1: Get Token Information\n",
    "\n",
    "Let's retrieve information about specific tokens:"
   ]
  },
  {
   "cell_type": "code",
   "execution_count": null,
   "metadata": {},
   "outputs": [],
   "source": [
    "# Get information for Bitcoin and Ethereum\n",
    "tokens = client.tokens.get(symbol=\"BTC,ETH\")\n",
    "print(f\"Found {len(tokens.get('data', []))} tokens\")\n",
    "\n",
    "# Convert to DataFrame for easier exploration\n",
    "tokens_df = client.tokens.get_dataframe(symbol=\"BTC,ETH\")\n",
    "tokens_df.head()"
   ]
  },
  {
   "cell_type": "markdown",
   "metadata": {},
   "source": [
    "## Example 2: Get Hourly OHLCV Data\n",
    "\n",
    "Get price and volume data for the last 7 days:"
   ]
  },
  {
   "cell_type": "code",
   "execution_count": null,
   "metadata": {},
   "outputs": [],
   "source": [
    "from datetime import datetime, timedelta\n",
    "\n",
    "# Calculate dates for last 60 days (to demonstrate automatic date chunking)\n",
    "end_date = datetime.now().strftime(\"%Y-%m-%d\")\n",
    "start_date = (datetime.now() - timedelta(days=250)).strftime(\"%Y-%m-%d\")\n",
    "\n",
    "# Get OHLCV data - the SDK will automatically handle the 29-day limit and show a progress bar\n",
    "ohlcv_df = client.hourly_ohlcv.get_dataframe(\n",
    "    symbol=\"BTC\", \n",
    "    startDate=start_date,\n",
    "    endDate=end_date\n",
    ")\n",
    "\n",
    "# Display the most recent data\n",
    "ohlcv_df.head()"
   ]
  },
  {
   "cell_type": "markdown",
   "metadata": {},
   "source": [
    "## Example 3: Get Daily OHLCV Data\n",
    "\n",
    "Get daily price and volume data for the last 30 days:"
   ]
  },
  {
   "cell_type": "code",
   "execution_count": null,
   "metadata": {},
   "outputs": [],
   "source": [
    "from datetime import datetime, timedelta\n",
    "\n",
    "# Calculate dates for last 90 days (demonstrating the automatic date chunking)\n",
    "end_date = datetime.now().strftime(\"%Y-%m-%d\")\n",
    "start_date = (datetime.now() - timedelta(days=190)).strftime(\"%Y-%m-%d\")\n",
    "\n",
    "# Get daily OHLCV data with automatic chunking and pagination\n",
    "# The SDK will automatically handle the 29-day limit and show a progress bar\n",
    "daily_ohlcv_df = client.daily_ohlcv.get_dataframe(\n",
    "    symbol=\"BTC\",\n",
    "    startDate=start_date,\n",
    "    endDate=end_date\n",
    ")\n",
    "\n",
    "# Display the most recent data\n",
    "daily_ohlcv_df"
   ]
  },
  {
   "cell_type": "markdown",
   "metadata": {},
   "source": [
    "## Example 4: Trader Grades"
   ]
  },
  {
   "cell_type": "code",
   "execution_count": null,
   "metadata": {},
   "outputs": [],
   "source": [
    "from datetime import datetime, timedelta\n",
    "\n",
    "# Calculate dates for last 180 days (to demonstrate multiple date chunks)\n",
    "end_date = datetime.now().strftime(\"%Y-%m-%d\")\n",
    "start_date = (datetime.now() - timedelta(days=180)).strftime(\"%Y-%m-%d\")\n",
    "\n",
    "# Get trader grades - the SDK will automatically handle date chunking and show a progress bar\n",
    "trader_grades_df = client.trader_grades.get_dataframe(\n",
    "    symbol=\"BTC,ETH,SOL,BNB,XRP\",\n",
    "    startDate=start_date,\n",
    "    endDate=end_date\n",
    ")\n",
    "\n",
    "# Display the most recent grades\n",
    "trader_grades_df"
   ]
  },
  {
   "cell_type": "markdown",
   "metadata": {},
   "source": [
    "## Example 4: Investor Grades\n",
    "\n",
    "Let's get the long-term investment grades:"
   ]
  },
  {
   "cell_type": "code",
   "execution_count": null,
   "metadata": {},
   "outputs": [],
   "source": [
    "# Get investor grades for the same tokens\n",
    "investor_grades_df = client.investor_grades.get_dataframe(\n",
    "    symbol=\"BTC, ETH\",\n",
    "    startDate=start_date,\n",
    "    endDate=end_date\n",
    ")\n",
    "\n",
    "investor_grades_df.head()"
   ]
  },
  {
   "cell_type": "markdown",
   "metadata": {},
   "source": [
    "## Example 5: Market Metrics\n",
    "\n",
    "Get overall market sentiment data:"
   ]
  },
  {
   "cell_type": "code",
   "execution_count": null,
   "metadata": {},
   "outputs": [],
   "source": [
    "# Get market metrics\n",
    "market_metrics_df = client.market_metrics.get_dataframe(\n",
    "    startDate=start_date,\n",
    "    endDate=end_date\n",
    ")\n",
    "\n",
    "market_metrics_df.head()"
   ]
  },
  {
   "cell_type": "markdown",
   "metadata": {},
   "source": [
    "## Example 6: Trader Indices\n",
    "\n",
    "Get the AI-generated trading portfolios:"
   ]
  },
  {
   "cell_type": "code",
   "execution_count": null,
   "metadata": {},
   "outputs": [],
   "source": [
    "# Get trader indices\n",
    "trader_indices_df = client.trader_indices.get_dataframe(\n",
    "    startDate=start_date,\n",
    "    endDate=end_date\n",
    ")\n",
    "\n",
    "trader_indices_df.head()"
   ]
  },
  {
   "cell_type": "markdown",
   "metadata": {},
   "source": [
    "## Example 7: AI Agent (Chatbot)\n",
    "\n",
    "Let's interact with the Token Metrics AI chatbot:"
   ]
  },
  {
   "cell_type": "code",
   "execution_count": null,
   "metadata": {},
   "outputs": [],
   "source": [
    "# Ask a simple question\n",
    "question = \"What is the next 100x coin?\"\n",
    "response = client.ai_agent.ask(question)\n",
    "\n",
    "# Print the full response\n",
    "import json\n",
    "print(json.dumps(response, indent=2))\n",
    "\n",
    "# Get just the answer text\n",
    "answer = client.ai_agent.get_answer_text(question)\n",
    "print(f\"\\nAI says: {answer}\")"
   ]
  },
  {
   "cell_type": "markdown",
   "metadata": {},
   "source": [
    "## Example 8: AI Reports\n",
    "\n",
    "Get the latest AI-generated trading and investment reports:"
   ]
  },
  {
   "cell_type": "code",
   "execution_count": null,
   "metadata": {},
   "outputs": [],
   "source": [
    "# Get AI reports for Bitcoin and Ethereum\n",
    "ai_reports = client.ai_reports.get(symbol=\"BTC,ETH\")\n",
    "print(f\"Found {len(ai_reports.get('data', []))} reports\")\n",
    "\n",
    "# Convert to DataFrame\n",
    "ai_reports_df = client.ai_reports.get_dataframe(symbol=\"BTC,ETH\")\n",
    "ai_reports_df.head()"
   ]
  },
  {
   "cell_type": "markdown",
   "metadata": {},
   "source": [
    "## Example 9: Trading Signals\n",
    "\n",
    "Get the AI-generated trading signals for long and short positions:"
   ]
  },
  {
   "cell_type": "code",
   "execution_count": null,
   "metadata": {},
   "outputs": [],
   "source": [
    "# Get trading signals for Bitcoin and Ethereum\n",
    "trading_signals = client.trading_signals.get(\n",
    "    symbol=\"BTC,ETH\",\n",
    "    startDate=start_date,\n",
    "    endDate=end_date,\n",
    "    signal=\"1\"  # Bullish signals\n",
    ")\n",
    "\n",
    "# Convert to DataFrame\n",
    "trading_signals_df = client.trading_signals.get_dataframe(\n",
    "    symbol=\"BTC,ETH\",\n",
    "    startDate=start_date,\n",
    "    endDate=end_date,\n",
    "    signal=\"1\"  # Bullish signals\n",
    ")\n",
    "\n",
    "trading_signals_df.head()"
   ]
  },
  {
   "cell_type": "markdown",
   "metadata": {},
   "source": [
    "## Conclusion\n",
    "\n",
    "This notebook demonstrated how to use the Token Metrics AI API SDK to access various cryptocurrency data, metrics, and AI-powered tools. You can use this data for trading signal generation, portfolio optimization, or market analysis.\n",
    "\n",
    "For more information, refer to the [official documentation](https://api.tokenmetrics.com/docs)."
   ]
  }
 ],
 "metadata": {
  "kernelspec": {
   "display_name": "py310-env",
   "language": "python",
   "name": "python3"
  },
  "language_info": {
   "codemirror_mode": {
    "name": "ipython",
    "version": 3
   },
   "file_extension": ".py",
   "mimetype": "text/x-python",
   "name": "python",
   "nbconvert_exporter": "python",
   "pygments_lexer": "ipython3",
   "version": "3.10.16"
  }
 },
 "nbformat": 4,
 "nbformat_minor": 4
}
